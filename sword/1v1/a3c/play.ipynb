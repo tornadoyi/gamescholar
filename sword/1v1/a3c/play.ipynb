{
 "cells": [
  {
   "cell_type": "code",
   "execution_count": null,
   "metadata": {},
   "outputs": [],
   "source": [
    "# human play\n",
    "import keyboard\n",
    "keyboard.run(True)"
   ]
  },
  {
   "cell_type": "code",
   "execution_count": null,
   "metadata": {
    "scrolled": false
   },
   "outputs": [],
   "source": [
    "# play\n",
    "from process import Process\n",
    "import sys\n",
    "num_workers = 8\n",
    "sys.argv = [sys.executable, '--index={}'.format(num_workers), '--num-workers={}'.format(num_workers), '--worker-path=a3c.py', '--mode=play', '--render=True', '--auto-save=False']\n",
    "import option\n",
    "cluster = option.cluster\n",
    "#cluster['worker'] = option.create_hosts('127.0.0.1', 30000, 20)\n",
    "process = Process(option.args, cluster)\n",
    "process()"
   ]
  }
 ],
 "metadata": {
  "kernelspec": {
   "display_name": "Python 3",
   "language": "python",
   "name": "python3"
  },
  "language_info": {
   "codemirror_mode": {
    "name": "ipython",
    "version": 3
   },
   "file_extension": ".py",
   "mimetype": "text/x-python",
   "name": "python",
   "nbconvert_exporter": "python",
   "pygments_lexer": "ipython3",
   "version": "3.5.3"
  }
 },
 "nbformat": 4,
 "nbformat_minor": 1
}
