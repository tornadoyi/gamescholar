{
 "cells": [
  {
   "cell_type": "code",
   "execution_count": null,
   "metadata": {
    "scrolled": false
   },
   "outputs": [],
   "source": [
    "# human play\n",
    "import keyboard\n",
    "keyboard.run(True)"
   ]
  },
  {
   "cell_type": "code",
   "execution_count": null,
   "metadata": {
    "collapsed": true,
    "scrolled": false
   },
   "outputs": [],
   "source": [
    "# play\n",
    "import sys\n",
    "from process import Process\n",
    "import option\n",
    "\n",
    "mode = 'play-online'\n",
    "#mode = 'play-offline'\n",
    "\n",
    "sys.argv = [\n",
    "    sys.executable, \n",
    "    '--index=99', \n",
    "    '--worker-path=a3c.py', \n",
    "    '--mode={}'.format(mode), \n",
    "    '--render=True', \n",
    "    '--auto-save=False']\n",
    "\n",
    "option.init(mode)\n",
    "cluster = option.cluster\n",
    "#cluster['worker'] = option.create_hosts('127.0.0.1', 30000, 20)\n",
    "process = Process(option.args, cluster)\n",
    "process()"
   ]
  }
 ],
 "metadata": {
  "kernelspec": {
   "display_name": "Python 3",
   "language": "python",
   "name": "python3"
  },
  "language_info": {
   "codemirror_mode": {
    "name": "ipython",
    "version": 3
   },
   "file_extension": ".py",
   "mimetype": "text/x-python",
   "name": "python",
   "nbconvert_exporter": "python",
   "pygments_lexer": "ipython3",
   "version": "3.5.3"
  }
 },
 "nbformat": 4,
 "nbformat_minor": 1
}
