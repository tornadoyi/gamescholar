{
 "cells": [
  {
   "cell_type": "code",
   "execution_count": null,
   "metadata": {
    "collapsed": true,
    "scrolled": false
   },
   "outputs": [],
   "source": [
    "# human play\n",
    "import keyboard\n",
    "keyboard.run(True)"
   ]
  },
  {
   "cell_type": "code",
   "execution_count": null,
   "metadata": {
    "scrolled": false
   },
   "outputs": [
    {
     "name": "stderr",
     "output_type": "stream",
     "text": [
      "[2017-08-07 18:13:54,319] Making new env: tiny-rpg-sword-v0\n"
     ]
    },
    {
     "name": "stdout",
     "output_type": "stream",
     "text": [
      "INFO:tensorflow:Starting queue runners.\n"
     ]
    },
    {
     "name": "stderr",
     "output_type": "stream",
     "text": [
      "[2017-08-07 18:14:26,097] Starting queue runners.\n",
      "[2017-08-07 18:14:26,110] Starting training at step=74020\n"
     ]
    },
    {
     "data": {
      "text/html": [
       "\n",
       "    <div class=\"bk-root\">\n",
       "        <a href=\"http://bokeh.pydata.org\" target=\"_blank\" class=\"bk-logo bk-logo-small bk-logo-notebook\"></a>\n",
       "        <span id=\"f414f743-cb78-41a6-8b1a-8d34135d8cdb\">Loading BokehJS ...</span>\n",
       "    </div>"
      ]
     },
     "metadata": {},
     "output_type": "execute_result"
    },
    {
     "data": {},
     "metadata": {},
     "output_type": "display_data"
    },
    {
     "data": {
      "text/html": [
       "\n",
       "\n",
       "    <div class=\"bk-root\">\n",
       "        <div class=\"bk-plotdiv\" id=\"45878904-a877-4103-ac5d-8b4875d9020b\"></div>\n",
       "    </div>\n",
       "<script type=\"text/javascript\">\n",
       "  \n",
       "  (function(global) {\n",
       "    function now() {\n",
       "      return new Date();\n",
       "    }\n",
       "  \n",
       "    var force = false;\n",
       "  \n",
       "    if (typeof (window._bokeh_onload_callbacks) === \"undefined\" || force === true) {\n",
       "      window._bokeh_onload_callbacks = [];\n",
       "      window._bokeh_is_loading = undefined;\n",
       "    }\n",
       "  \n",
       "  \n",
       "    \n",
       "    if (typeof (window._bokeh_timeout) === \"undefined\" || force === true) {\n",
       "      window._bokeh_timeout = Date.now() + 0;\n",
       "      window._bokeh_failed_load = false;\n",
       "    }\n",
       "  \n",
       "    var NB_LOAD_WARNING = {'data': {'text/html':\n",
       "       \"<div style='background-color: #fdd'>\\n\"+\n",
       "       \"<p>\\n\"+\n",
       "       \"BokehJS does not appear to have successfully loaded. If loading BokehJS from CDN, this \\n\"+\n",
       "       \"may be due to a slow or bad network connection. Possible fixes:\\n\"+\n",
       "       \"</p>\\n\"+\n",
       "       \"<ul>\\n\"+\n",
       "       \"<li>re-rerun `output_notebook()` to attempt to load from CDN again, or</li>\\n\"+\n",
       "       \"<li>use INLINE resources instead, as so:</li>\\n\"+\n",
       "       \"</ul>\\n\"+\n",
       "       \"<code>\\n\"+\n",
       "       \"from bokeh.resources import INLINE\\n\"+\n",
       "       \"output_notebook(resources=INLINE)\\n\"+\n",
       "       \"</code>\\n\"+\n",
       "       \"</div>\"}};\n",
       "  \n",
       "    function display_loaded() {\n",
       "      if (window.Bokeh !== undefined) {\n",
       "        var el = document.getElementById(\"45878904-a877-4103-ac5d-8b4875d9020b\");\n",
       "        el.textContent = \"BokehJS \" + Bokeh.version + \" successfully loaded.\";\n",
       "      } else if (Date.now() < window._bokeh_timeout) {\n",
       "        setTimeout(display_loaded, 100)\n",
       "      }\n",
       "    }if ((window.Jupyter !== undefined) && Jupyter.notebook.kernel) {\n",
       "      comm_manager = Jupyter.notebook.kernel.comm_manager\n",
       "      comm_manager.register_target(\"90f2122c-530b-42c9-9036-ce8bece04523\", function () {});\n",
       "    }\n",
       "  \n",
       "    function run_callbacks() {\n",
       "      try {\n",
       "        window._bokeh_onload_callbacks.forEach(function(callback) { callback() });\n",
       "      }\n",
       "      finally {\n",
       "        delete window._bokeh_onload_callbacks\n",
       "      }\n",
       "      console.info(\"Bokeh: all callbacks have finished\");\n",
       "    }\n",
       "  \n",
       "    function load_libs(js_urls, callback) {\n",
       "      window._bokeh_onload_callbacks.push(callback);\n",
       "      if (window._bokeh_is_loading > 0) {\n",
       "        console.log(\"Bokeh: BokehJS is being loaded, scheduling callback at\", now());\n",
       "        return null;\n",
       "      }\n",
       "      if (js_urls == null || js_urls.length === 0) {\n",
       "        run_callbacks();\n",
       "        return null;\n",
       "      }\n",
       "      console.log(\"Bokeh: BokehJS not loaded, scheduling load and callback at\", now());\n",
       "      window._bokeh_is_loading = js_urls.length;\n",
       "      for (var i = 0; i < js_urls.length; i++) {\n",
       "        var url = js_urls[i];\n",
       "        var s = document.createElement('script');\n",
       "        s.src = url;\n",
       "        s.async = false;\n",
       "        s.onreadystatechange = s.onload = function() {\n",
       "          window._bokeh_is_loading--;\n",
       "          if (window._bokeh_is_loading === 0) {\n",
       "            console.log(\"Bokeh: all BokehJS libraries loaded\");\n",
       "            run_callbacks()\n",
       "          }\n",
       "        };\n",
       "        s.onerror = function() {\n",
       "          console.warn(\"failed to load library \" + url);\n",
       "        };\n",
       "        console.log(\"Bokeh: injecting script tag for BokehJS library: \", url);\n",
       "        document.getElementsByTagName(\"head\")[0].appendChild(s);\n",
       "      }\n",
       "    };var element = document.getElementById(\"45878904-a877-4103-ac5d-8b4875d9020b\");\n",
       "    if (element == null) {\n",
       "      console.log(\"Bokeh: ERROR: autoload.js configured with elementid '45878904-a877-4103-ac5d-8b4875d9020b' but no matching script tag was found. \")\n",
       "      return false;\n",
       "    }\n",
       "  \n",
       "    var js_urls = [];\n",
       "  \n",
       "    var inline_js = [\n",
       "      function(Bokeh) {\n",
       "        (function() {\n",
       "          var fn = function() {\n",
       "            var docs_json = {\"9a20a040-9fd9-4ccc-93cd-d3b1ed7671ac\":{\"roots\":{\"references\":[{\"attributes\":{\"callback\":null,\"column_names\":[\"line_width\",\"radius\",\"x\",\"y\",\"line_color\",\"fill_alpha\",\"fill_color\"],\"data\":{\"fill_alpha\":[1.0,1.0],\"fill_color\":[\"firebrick\",\"firebrick\"],\"line_color\":[\"#568203\",\"#003A6C\"],\"line_width\":[3,3],\"radius\":[0.5,0.5],\"x\":[-1,-1],\"y\":[-1,-1]}},\"id\":\"56071bf9-8308-4a08-b1c1-4895cc189b2f\",\"type\":\"ColumnDataSource\"},{\"attributes\":{\"bottom_units\":\"screen\",\"fill_alpha\":{\"value\":0.5},\"fill_color\":{\"value\":\"lightgrey\"},\"left_units\":\"screen\",\"level\":\"overlay\",\"line_alpha\":{\"value\":1.0},\"line_color\":{\"value\":\"black\"},\"line_dash\":[4,4],\"line_width\":{\"value\":2},\"plot\":null,\"render_mode\":\"css\",\"right_units\":\"screen\",\"top_units\":\"screen\"},\"id\":\"c48b70bb-530e-4b44-80e3-61af41198017\",\"type\":\"BoxAnnotation\"},{\"attributes\":{\"fill_alpha\":{\"value\":0.1},\"fill_color\":{\"value\":\"#1f77b4\"},\"line_alpha\":{\"value\":0.1},\"line_color\":{\"value\":\"#1f77b4\"},\"line_width\":{\"field\":\"line_width\"},\"radius\":{\"field\":\"radius\",\"units\":\"data\"},\"x\":{\"field\":\"x\"},\"y\":{\"field\":\"y\"}},\"id\":\"21fde150-d6ed-4978-9e04-637c30edea0e\",\"type\":\"Circle\"},{\"attributes\":{\"overlay\":{\"id\":\"c48b70bb-530e-4b44-80e3-61af41198017\",\"type\":\"BoxAnnotation\"},\"plot\":{\"id\":\"7a2f752b-a4a1-4ff3-bc6c-9e0c76d9f4f0\",\"subtype\":\"Figure\",\"type\":\"Plot\"}},\"id\":\"5fece648-5238-463b-b0f4-8c8203e2436b\",\"type\":\"BoxZoomTool\"},{\"attributes\":{\"callback\":null,\"column_names\":[\"x\",\"y\"],\"data\":{\"x\":[0,30,30,0,0],\"y\":[0,0,30,30,0]}},\"id\":\"9cdb8248-77bd-41f9-aafd-e4e3192b0e49\",\"type\":\"ColumnDataSource\"},{\"attributes\":{},\"id\":\"9598f045-fbf0-4ff1-aa03-74f14bfcebe2\",\"type\":\"LinearScale\"},{\"attributes\":{\"fill_alpha\":{\"value\":0.1},\"fill_color\":{\"value\":\"#1f77b4\"},\"line_alpha\":{\"value\":0.1},\"line_color\":{\"value\":\"#1f77b4\"},\"radius\":{\"field\":\"radius\",\"units\":\"data\"},\"x\":{\"field\":\"x\"},\"y\":{\"field\":\"y\"}},\"id\":\"1f82987a-91bd-4a4a-881b-fab17ee5cb37\",\"type\":\"Circle\"},{\"attributes\":{},\"id\":\"c6abaf14-a94e-4143-a1de-569aea8b994d\",\"type\":\"BasicTicker\"},{\"attributes\":{\"active_drag\":\"auto\",\"active_inspect\":\"auto\",\"active_scroll\":\"auto\",\"active_tap\":\"auto\",\"tools\":[{\"id\":\"e7cde355-577e-47af-a766-c88803dc3e6d\",\"type\":\"PanTool\"},{\"id\":\"81bdd3b4-cae8-41e4-b628-79e12aa91720\",\"type\":\"WheelZoomTool\"},{\"id\":\"5fece648-5238-463b-b0f4-8c8203e2436b\",\"type\":\"BoxZoomTool\"},{\"id\":\"95290f2c-edb5-4275-b4d3-6bbee1d7962b\",\"type\":\"SaveTool\"},{\"id\":\"bead4e61-55b0-48fd-b3e4-676b58abfb11\",\"type\":\"ResetTool\"},{\"id\":\"0fd7e2f9-f02b-42f2-b201-08a434fbe7ff\",\"type\":\"HelpTool\"}]},\"id\":\"7d34d57f-7269-4e11-ad89-d4b56c0de060\",\"type\":\"Toolbar\"},{\"attributes\":{\"callback\":null,\"end\":33.0,\"start\":-3.0},\"id\":\"5403f98a-d096-4aae-a101-dff9b02cbb31\",\"type\":\"Range1d\"},{\"attributes\":{\"dimension\":1,\"plot\":{\"id\":\"7a2f752b-a4a1-4ff3-bc6c-9e0c76d9f4f0\",\"subtype\":\"Figure\",\"type\":\"Plot\"},\"ticker\":{\"id\":\"bd4ac04a-17f0-4bc4-83f0-68632c0dae61\",\"type\":\"BasicTicker\"}},\"id\":\"cc08acfe-cadd-4b9b-84da-287e54c7c5f4\",\"type\":\"Grid\"},{\"attributes\":{\"data_source\":{\"id\":\"56071bf9-8308-4a08-b1c1-4895cc189b2f\",\"type\":\"ColumnDataSource\"},\"glyph\":{\"id\":\"8b549957-06c0-45d3-a026-b44ad4ab724c\",\"type\":\"Circle\"},\"hover_glyph\":null,\"muted_glyph\":null,\"nonselection_glyph\":{\"id\":\"faa3417c-0ed7-4183-a255-c4c97affdc73\",\"type\":\"Circle\"},\"selection_glyph\":null},\"id\":\"bf0f95c5-3e87-4450-a7aa-63125b84e255\",\"type\":\"GlyphRenderer\"},{\"attributes\":{\"line_alpha\":{\"value\":0.3},\"line_color\":{\"value\":\"navy\"},\"line_dash\":[2,4],\"line_width\":{\"value\":2},\"x\":{\"field\":\"x\"},\"y\":{\"field\":\"y\"}},\"id\":\"2c7c6a20-3eb7-4eea-9681-24dbcd69da3e\",\"type\":\"Line\"},{\"attributes\":{\"plot\":{\"id\":\"7a2f752b-a4a1-4ff3-bc6c-9e0c76d9f4f0\",\"subtype\":\"Figure\",\"type\":\"Plot\"}},\"id\":\"0fd7e2f9-f02b-42f2-b201-08a434fbe7ff\",\"type\":\"HelpTool\"},{\"attributes\":{\"fill_alpha\":{\"field\":\"fill_alpha\"},\"fill_color\":{\"field\":\"fill_color\"},\"line_color\":{\"field\":\"line_color\"},\"line_width\":{\"field\":\"line_width\"},\"radius\":{\"field\":\"radius\",\"units\":\"data\"},\"x\":{\"field\":\"x\"},\"y\":{\"field\":\"y\"}},\"id\":\"8b549957-06c0-45d3-a026-b44ad4ab724c\",\"type\":\"Circle\"},{\"attributes\":{\"plot\":null,\"text\":\"\"},\"id\":\"ac878576-a2de-4819-bece-65c2dfa167cd\",\"type\":\"Title\"},{\"attributes\":{},\"id\":\"e474f736-fee1-413c-b090-e985a9a30bec\",\"type\":\"ToolEvents\"},{\"attributes\":{},\"id\":\"9fb4060b-b6a9-40f8-a613-813fd528833c\",\"type\":\"BasicTickFormatter\"},{\"attributes\":{\"plot\":{\"id\":\"7a2f752b-a4a1-4ff3-bc6c-9e0c76d9f4f0\",\"subtype\":\"Figure\",\"type\":\"Plot\"}},\"id\":\"bead4e61-55b0-48fd-b3e4-676b58abfb11\",\"type\":\"ResetTool\"},{\"attributes\":{\"fill_alpha\":{\"field\":\"fill_alpha\"},\"fill_color\":{\"field\":\"fill_color\"},\"line_color\":{\"field\":\"line_color\"},\"line_width\":{\"field\":\"line_width\"},\"radius\":{\"field\":\"radius\",\"units\":\"data\"},\"x\":{\"field\":\"x\"},\"y\":{\"field\":\"y\"}},\"id\":\"a76b0d8b-9e62-4564-8725-8e8762d3453f\",\"type\":\"Circle\"},{\"attributes\":{\"callback\":null,\"end\":33.0,\"start\":-3.0},\"id\":\"dba3fcd2-7479-4fa9-bfe0-2e7c0903926a\",\"type\":\"Range1d\"},{\"attributes\":{\"callback\":null,\"column_names\":[\"line_width\",\"radius\",\"x\",\"y\",\"line_color\",\"fill_alpha\",\"fill_color\"],\"data\":{\"fill_alpha\":[1.0,1.0],\"fill_color\":[\"firebrick\",\"firebrick\"],\"line_color\":[\"#568203\",\"#003A6C\"],\"line_width\":[3,3],\"radius\":[0.5,0.5],\"x\":[-1,-1],\"y\":[-1,-1]}},\"id\":\"141d9db7-e17d-4ba0-bc85-093e7d4f0c17\",\"type\":\"ColumnDataSource\"},{\"attributes\":{\"data_source\":{\"id\":\"141d9db7-e17d-4ba0-bc85-093e7d4f0c17\",\"type\":\"ColumnDataSource\"},\"glyph\":{\"id\":\"a76b0d8b-9e62-4564-8725-8e8762d3453f\",\"type\":\"Circle\"},\"hover_glyph\":null,\"muted_glyph\":null,\"nonselection_glyph\":{\"id\":\"21fde150-d6ed-4978-9e04-637c30edea0e\",\"type\":\"Circle\"},\"selection_glyph\":null},\"id\":\"a1ce84d8-53c4-42f6-8c9b-87ea0dd3ae52\",\"type\":\"GlyphRenderer\"},{\"attributes\":{\"plot\":{\"id\":\"7a2f752b-a4a1-4ff3-bc6c-9e0c76d9f4f0\",\"subtype\":\"Figure\",\"type\":\"Plot\"}},\"id\":\"81bdd3b4-cae8-41e4-b628-79e12aa91720\",\"type\":\"WheelZoomTool\"},{\"attributes\":{\"line_alpha\":{\"value\":0.1},\"line_color\":{\"value\":\"#1f77b4\"},\"line_dash\":[2,4],\"line_width\":{\"value\":2},\"x\":{\"field\":\"x\"},\"y\":{\"field\":\"y\"}},\"id\":\"1b8cc87a-1e7c-4ab8-b4d9-e0f003d3c36e\",\"type\":\"Line\"},{\"attributes\":{},\"id\":\"df26490a-c94a-41bb-81f8-e6ce5427b064\",\"type\":\"BasicTickFormatter\"},{\"attributes\":{\"below\":[{\"id\":\"ca996b0c-d449-4f9a-9eaa-db97f26b4fcb\",\"type\":\"LinearAxis\"}],\"left\":[{\"id\":\"a08cd290-efce-4572-9a7f-17acea82f4be\",\"type\":\"LinearAxis\"}],\"renderers\":[{\"id\":\"ca996b0c-d449-4f9a-9eaa-db97f26b4fcb\",\"type\":\"LinearAxis\"},{\"id\":\"9db1b188-3401-4c5c-899d-95d732253115\",\"type\":\"Grid\"},{\"id\":\"a08cd290-efce-4572-9a7f-17acea82f4be\",\"type\":\"LinearAxis\"},{\"id\":\"cc08acfe-cadd-4b9b-84da-287e54c7c5f4\",\"type\":\"Grid\"},{\"id\":\"c48b70bb-530e-4b44-80e3-61af41198017\",\"type\":\"BoxAnnotation\"},{\"id\":\"784a0a5b-8c0f-4dbe-8fc7-ca46f29447c0\",\"type\":\"GlyphRenderer\"},{\"id\":\"bf0f95c5-3e87-4450-a7aa-63125b84e255\",\"type\":\"GlyphRenderer\"},{\"id\":\"a1ce84d8-53c4-42f6-8c9b-87ea0dd3ae52\",\"type\":\"GlyphRenderer\"},{\"id\":\"4e9b7ba5-d7c3-4c80-badc-acb29f9fc1ca\",\"type\":\"GlyphRenderer\"}],\"title\":{\"id\":\"ac878576-a2de-4819-bece-65c2dfa167cd\",\"type\":\"Title\"},\"tool_events\":{\"id\":\"e474f736-fee1-413c-b090-e985a9a30bec\",\"type\":\"ToolEvents\"},\"toolbar\":{\"id\":\"7d34d57f-7269-4e11-ad89-d4b56c0de060\",\"type\":\"Toolbar\"},\"x_range\":{\"id\":\"dba3fcd2-7479-4fa9-bfe0-2e7c0903926a\",\"type\":\"Range1d\"},\"x_scale\":{\"id\":\"2fadd3cb-0bc0-4b23-8a43-c20d1c7ee334\",\"type\":\"LinearScale\"},\"y_range\":{\"id\":\"5403f98a-d096-4aae-a101-dff9b02cbb31\",\"type\":\"Range1d\"},\"y_scale\":{\"id\":\"9598f045-fbf0-4ff1-aa03-74f14bfcebe2\",\"type\":\"LinearScale\"}},\"id\":\"7a2f752b-a4a1-4ff3-bc6c-9e0c76d9f4f0\",\"subtype\":\"Figure\",\"type\":\"Plot\"},{\"attributes\":{\"plot\":{\"id\":\"7a2f752b-a4a1-4ff3-bc6c-9e0c76d9f4f0\",\"subtype\":\"Figure\",\"type\":\"Plot\"},\"ticker\":{\"id\":\"c6abaf14-a94e-4143-a1de-569aea8b994d\",\"type\":\"BasicTicker\"}},\"id\":\"9db1b188-3401-4c5c-899d-95d732253115\",\"type\":\"Grid\"},{\"attributes\":{\"data_source\":{\"id\":\"9cdb8248-77bd-41f9-aafd-e4e3192b0e49\",\"type\":\"ColumnDataSource\"},\"glyph\":{\"id\":\"2c7c6a20-3eb7-4eea-9681-24dbcd69da3e\",\"type\":\"Line\"},\"hover_glyph\":null,\"muted_glyph\":null,\"nonselection_glyph\":{\"id\":\"1b8cc87a-1e7c-4ab8-b4d9-e0f003d3c36e\",\"type\":\"Line\"},\"selection_glyph\":null},\"id\":\"784a0a5b-8c0f-4dbe-8fc7-ca46f29447c0\",\"type\":\"GlyphRenderer\"},{\"attributes\":{},\"id\":\"2fadd3cb-0bc0-4b23-8a43-c20d1c7ee334\",\"type\":\"LinearScale\"},{\"attributes\":{\"fill_alpha\":{\"value\":0.1},\"fill_color\":{\"value\":\"#1f77b4\"},\"line_alpha\":{\"value\":0.1},\"line_color\":{\"value\":\"#1f77b4\"},\"line_width\":{\"field\":\"line_width\"},\"radius\":{\"field\":\"radius\",\"units\":\"data\"},\"x\":{\"field\":\"x\"},\"y\":{\"field\":\"y\"}},\"id\":\"faa3417c-0ed7-4183-a255-c4c97affdc73\",\"type\":\"Circle\"},{\"attributes\":{\"data_source\":{\"id\":\"5d038c3e-421e-4101-b1a9-4c56c6134d3e\",\"type\":\"ColumnDataSource\"},\"glyph\":{\"id\":\"e2101063-753e-4b8e-9c9c-9045060b528e\",\"type\":\"Circle\"},\"hover_glyph\":null,\"muted_glyph\":null,\"nonselection_glyph\":{\"id\":\"1f82987a-91bd-4a4a-881b-fab17ee5cb37\",\"type\":\"Circle\"},\"selection_glyph\":null},\"id\":\"4e9b7ba5-d7c3-4c80-badc-acb29f9fc1ca\",\"type\":\"GlyphRenderer\"},{\"attributes\":{\"callback\":null,\"column_names\":[\"radius\",\"x\",\"y\"],\"data\":{\"radius\":[],\"x\":[],\"y\":[]}},\"id\":\"5d038c3e-421e-4101-b1a9-4c56c6134d3e\",\"type\":\"ColumnDataSource\"},{\"attributes\":{\"formatter\":{\"id\":\"df26490a-c94a-41bb-81f8-e6ce5427b064\",\"type\":\"BasicTickFormatter\"},\"plot\":{\"id\":\"7a2f752b-a4a1-4ff3-bc6c-9e0c76d9f4f0\",\"subtype\":\"Figure\",\"type\":\"Plot\"},\"ticker\":{\"id\":\"c6abaf14-a94e-4143-a1de-569aea8b994d\",\"type\":\"BasicTicker\"}},\"id\":\"ca996b0c-d449-4f9a-9eaa-db97f26b4fcb\",\"type\":\"LinearAxis\"},{\"attributes\":{\"plot\":{\"id\":\"7a2f752b-a4a1-4ff3-bc6c-9e0c76d9f4f0\",\"subtype\":\"Figure\",\"type\":\"Plot\"}},\"id\":\"95290f2c-edb5-4275-b4d3-6bbee1d7962b\",\"type\":\"SaveTool\"},{\"attributes\":{\"plot\":{\"id\":\"7a2f752b-a4a1-4ff3-bc6c-9e0c76d9f4f0\",\"subtype\":\"Figure\",\"type\":\"Plot\"}},\"id\":\"e7cde355-577e-47af-a766-c88803dc3e6d\",\"type\":\"PanTool\"},{\"attributes\":{},\"id\":\"bd4ac04a-17f0-4bc4-83f0-68632c0dae61\",\"type\":\"BasicTicker\"},{\"attributes\":{\"fill_alpha\":{\"value\":0.6},\"fill_color\":{\"value\":\"purple\"},\"line_color\":{\"value\":\"red\"},\"radius\":{\"field\":\"radius\",\"units\":\"data\"},\"x\":{\"field\":\"x\"},\"y\":{\"field\":\"y\"}},\"id\":\"e2101063-753e-4b8e-9c9c-9045060b528e\",\"type\":\"Circle\"},{\"attributes\":{\"formatter\":{\"id\":\"9fb4060b-b6a9-40f8-a613-813fd528833c\",\"type\":\"BasicTickFormatter\"},\"plot\":{\"id\":\"7a2f752b-a4a1-4ff3-bc6c-9e0c76d9f4f0\",\"subtype\":\"Figure\",\"type\":\"Plot\"},\"ticker\":{\"id\":\"bd4ac04a-17f0-4bc4-83f0-68632c0dae61\",\"type\":\"BasicTicker\"}},\"id\":\"a08cd290-efce-4572-9a7f-17acea82f4be\",\"type\":\"LinearAxis\"}],\"root_ids\":[\"7a2f752b-a4a1-4ff3-bc6c-9e0c76d9f4f0\"]},\"title\":\"Bokeh Application\",\"version\":\"0.12.6\"}};\n",
       "            var render_items = [{\"docid\":\"9a20a040-9fd9-4ccc-93cd-d3b1ed7671ac\",\"elementid\":\"45878904-a877-4103-ac5d-8b4875d9020b\",\"modelid\":\"7a2f752b-a4a1-4ff3-bc6c-9e0c76d9f4f0\",\"notebook_comms_target\":\"90f2122c-530b-42c9-9036-ce8bece04523\"}];\n",
       "            \n",
       "            Bokeh.embed.embed_items(docs_json, render_items);\n",
       "          };\n",
       "          if (document.readyState != \"loading\") fn();\n",
       "          else document.addEventListener(\"DOMContentLoaded\", fn);\n",
       "        })();\n",
       "      },\n",
       "      function(Bokeh) {\n",
       "      }\n",
       "    ];\n",
       "  \n",
       "    function run_inline_js() {\n",
       "      \n",
       "      if ((window.Bokeh !== undefined) || (force === true)) {\n",
       "        for (var i = 0; i < inline_js.length; i++) {\n",
       "          inline_js[i](window.Bokeh);\n",
       "        }if (force === true) {\n",
       "          display_loaded();\n",
       "        }} else if (Date.now() < window._bokeh_timeout) {\n",
       "        setTimeout(run_inline_js, 100);\n",
       "      } else if (!window._bokeh_failed_load) {\n",
       "        console.log(\"Bokeh: BokehJS failed to load within specified timeout.\");\n",
       "        window._bokeh_failed_load = true;\n",
       "      } else if (force !== true) {\n",
       "        var cell = $(document.getElementById(\"45878904-a877-4103-ac5d-8b4875d9020b\")).parents('.cell').data().cell;\n",
       "        cell.output_area.append_execute_result(NB_LOAD_WARNING)\n",
       "      }\n",
       "  \n",
       "    }\n",
       "  \n",
       "    if (window._bokeh_is_loading === 0) {\n",
       "      console.log(\"Bokeh: BokehJS loaded, going straight to plotting\");\n",
       "      run_inline_js();\n",
       "    } else {\n",
       "      load_libs(js_urls, function() {\n",
       "        console.log(\"Bokeh: BokehJS plotting callback run at\", now());\n",
       "        run_inline_js();\n",
       "      });\n",
       "    }\n",
       "  }(this));\n",
       "</script>"
      ]
     },
     "metadata": {},
     "output_type": "execute_result"
    }
   ],
   "source": [
    "# play\n",
    "from process import Process\n",
    "import sys\n",
    "num_workers = 40\n",
    "sys.argv = [sys.executable, '--index={}'.format(num_workers), '--num-workers={}'.format(num_workers), '--worker-path=a3c.py', '--mode=play', '--render=True', '--auto-save=False']\n",
    "import option\n",
    "cluster = option.cluster\n",
    "#cluster['worker'] = option.create_hosts('127.0.0.1', 30000, 20)\n",
    "process = Process(option.args, cluster)\n",
    "process()"
   ]
  }
 ],
 "metadata": {
  "kernelspec": {
   "display_name": "Python 3",
   "language": "python",
   "name": "python3"
  },
  "language_info": {
   "codemirror_mode": {
    "name": "ipython",
    "version": 3
   },
   "file_extension": ".py",
   "mimetype": "text/x-python",
   "name": "python",
   "nbconvert_exporter": "python",
   "pygments_lexer": "ipython3",
   "version": "3.5.3"
  }
 },
 "nbformat": 4,
 "nbformat_minor": 1
}
